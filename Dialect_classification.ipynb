{
 "cells": [
  {
   "cell_type": "code",
   "execution_count": 1,
   "metadata": {},
   "outputs": [],
   "source": [
    "import pandas as pd\n",
    "from requests import post\n",
    "import json\n",
    "import pickle\n",
    "%matplotlib inline"
   ]
  },
  {
   "cell_type": "code",
   "execution_count": 2,
   "metadata": {},
   "outputs": [],
   "source": [
    "df = pd.read_csv(\"Datasets/dialect_dataset.csv\")\n",
    "df['id'] = df.id.astype(str) \n"
   ]
  },
  {
   "cell_type": "code",
   "execution_count": 3,
   "metadata": {},
   "outputs": [
    {
     "name": "stdout",
     "output_type": "stream",
     "text": [
      "Number of remaining rows is 458197\n",
      "Number of remaining rows is 457197\n",
      "Number of remaining rows is 456197\n",
      "Number of remaining rows is 455197\n",
      "Number of remaining rows is 454197\n",
      "Number of remaining rows is 453197\n",
      "Number of remaining rows is 452197\n",
      "Number of remaining rows is 451197\n",
      "Number of remaining rows is 450197\n",
      "Number of remaining rows is 449197\n",
      "Number of remaining rows is 448197\n",
      "Number of remaining rows is 447197\n",
      "Number of remaining rows is 446197\n",
      "Number of remaining rows is 445197\n",
      "Number of remaining rows is 444197\n",
      "Number of remaining rows is 443197\n",
      "Number of remaining rows is 442197\n",
      "Number of remaining rows is 441197\n",
      "Number of remaining rows is 440197\n",
      "Number of remaining rows is 439197\n",
      "Number of remaining rows is 438197\n",
      "Number of remaining rows is 437197\n",
      "Number of remaining rows is 436197\n",
      "Number of remaining rows is 435197\n",
      "Number of remaining rows is 434197\n",
      "Number of remaining rows is 433197\n",
      "Number of remaining rows is 432197\n",
      "Number of remaining rows is 431197\n",
      "Number of remaining rows is 430197\n",
      "Number of remaining rows is 429197\n",
      "Number of remaining rows is 428197\n",
      "Number of remaining rows is 427197\n",
      "Number of remaining rows is 426197\n",
      "Number of remaining rows is 425197\n",
      "Number of remaining rows is 424197\n",
      "Number of remaining rows is 423197\n",
      "Number of remaining rows is 422197\n",
      "Number of remaining rows is 421197\n",
      "Number of remaining rows is 420197\n",
      "Number of remaining rows is 419197\n",
      "Number of remaining rows is 418197\n",
      "Number of remaining rows is 417197\n",
      "Number of remaining rows is 416197\n",
      "Number of remaining rows is 415197\n",
      "Number of remaining rows is 414197\n",
      "Number of remaining rows is 413197\n",
      "Number of remaining rows is 412197\n",
      "Number of remaining rows is 411197\n",
      "Number of remaining rows is 410197\n",
      "Number of remaining rows is 409197\n",
      "Number of remaining rows is 408197\n",
      "Number of remaining rows is 407197\n",
      "Number of remaining rows is 406197\n",
      "Number of remaining rows is 405197\n",
      "Number of remaining rows is 404197\n",
      "Number of remaining rows is 403197\n",
      "Number of remaining rows is 402197\n",
      "Number of remaining rows is 401197\n",
      "Number of remaining rows is 400197\n",
      "Number of remaining rows is 399197\n",
      "Number of remaining rows is 398197\n",
      "Number of remaining rows is 397197\n",
      "Number of remaining rows is 396197\n",
      "Number of remaining rows is 395197\n",
      "Number of remaining rows is 394197\n",
      "Number of remaining rows is 393197\n",
      "Number of remaining rows is 392197\n",
      "Number of remaining rows is 391197\n",
      "Number of remaining rows is 390197\n",
      "Number of remaining rows is 389197\n",
      "Number of remaining rows is 388197\n",
      "Number of remaining rows is 387197\n",
      "Number of remaining rows is 386197\n",
      "Number of remaining rows is 385197\n",
      "Number of remaining rows is 384197\n",
      "Number of remaining rows is 383197\n",
      "Number of remaining rows is 382197\n",
      "Number of remaining rows is 381197\n",
      "Number of remaining rows is 380197\n",
      "Number of remaining rows is 379197\n",
      "Number of remaining rows is 378197\n",
      "Number of remaining rows is 377197\n",
      "Number of remaining rows is 376197\n",
      "Number of remaining rows is 375197\n",
      "Number of remaining rows is 374197\n",
      "Number of remaining rows is 373197\n",
      "Number of remaining rows is 372197\n",
      "Number of remaining rows is 371197\n",
      "Number of remaining rows is 370197\n",
      "Number of remaining rows is 369197\n",
      "Number of remaining rows is 368197\n",
      "Number of remaining rows is 367197\n",
      "Number of remaining rows is 366197\n",
      "Number of remaining rows is 365197\n",
      "Number of remaining rows is 364197\n",
      "Number of remaining rows is 363197\n",
      "Number of remaining rows is 362197\n",
      "Number of remaining rows is 361197\n",
      "Number of remaining rows is 360197\n",
      "Number of remaining rows is 359197\n",
      "Number of remaining rows is 358197\n",
      "Number of remaining rows is 357197\n",
      "Number of remaining rows is 356197\n",
      "Number of remaining rows is 355197\n",
      "Number of remaining rows is 354197\n",
      "Number of remaining rows is 353197\n",
      "Number of remaining rows is 352197\n",
      "Number of remaining rows is 351197\n",
      "Number of remaining rows is 350197\n",
      "Number of remaining rows is 349197\n",
      "Number of remaining rows is 348197\n",
      "Number of remaining rows is 347197\n",
      "Number of remaining rows is 346197\n",
      "Number of remaining rows is 345197\n",
      "Number of remaining rows is 344197\n",
      "Number of remaining rows is 343197\n",
      "Number of remaining rows is 342197\n",
      "Number of remaining rows is 341197\n",
      "Number of remaining rows is 340197\n",
      "Number of remaining rows is 339197\n",
      "Number of remaining rows is 338197\n",
      "Number of remaining rows is 337197\n",
      "Number of remaining rows is 336197\n",
      "Number of remaining rows is 335197\n",
      "Number of remaining rows is 334197\n",
      "Number of remaining rows is 333197\n",
      "Number of remaining rows is 332197\n",
      "Number of remaining rows is 331197\n",
      "Number of remaining rows is 330197\n",
      "Number of remaining rows is 329197\n",
      "Number of remaining rows is 328197\n",
      "Number of remaining rows is 327197\n",
      "Number of remaining rows is 326197\n",
      "Number of remaining rows is 325197\n",
      "Number of remaining rows is 324197\n",
      "Number of remaining rows is 323197\n",
      "Number of remaining rows is 322197\n",
      "Number of remaining rows is 321197\n",
      "Number of remaining rows is 320197\n",
      "Number of remaining rows is 319197\n",
      "Number of remaining rows is 318197\n",
      "Number of remaining rows is 317197\n",
      "Number of remaining rows is 316197\n",
      "Number of remaining rows is 315197\n",
      "Number of remaining rows is 314197\n",
      "Number of remaining rows is 313197\n",
      "Number of remaining rows is 312197\n",
      "Number of remaining rows is 311197\n",
      "Number of remaining rows is 310197\n",
      "Number of remaining rows is 309197\n",
      "Number of remaining rows is 308197\n",
      "Number of remaining rows is 307197\n",
      "Number of remaining rows is 306197\n",
      "Number of remaining rows is 305197\n",
      "Number of remaining rows is 304197\n",
      "Number of remaining rows is 303197\n",
      "Number of remaining rows is 302197\n",
      "Number of remaining rows is 301197\n",
      "Number of remaining rows is 300197\n",
      "Number of remaining rows is 299197\n",
      "Number of remaining rows is 298197\n",
      "Number of remaining rows is 297197\n",
      "Number of remaining rows is 296197\n",
      "Number of remaining rows is 295197\n",
      "Number of remaining rows is 294197\n",
      "Number of remaining rows is 293197\n",
      "Number of remaining rows is 292197\n",
      "Number of remaining rows is 291197\n",
      "Number of remaining rows is 290197\n",
      "Number of remaining rows is 289197\n",
      "Number of remaining rows is 288197\n",
      "Number of remaining rows is 287197\n",
      "Number of remaining rows is 286197\n",
      "Number of remaining rows is 285197\n",
      "Number of remaining rows is 284197\n",
      "Number of remaining rows is 283197\n",
      "Number of remaining rows is 282197\n",
      "Number of remaining rows is 281197\n",
      "Number of remaining rows is 280197\n",
      "Number of remaining rows is 279197\n",
      "Number of remaining rows is 278197\n",
      "Number of remaining rows is 277197\n",
      "Number of remaining rows is 276197\n",
      "Number of remaining rows is 275197\n",
      "Number of remaining rows is 274197\n",
      "Number of remaining rows is 273197\n",
      "Number of remaining rows is 272197\n",
      "Number of remaining rows is 271197\n",
      "Number of remaining rows is 270197\n",
      "Number of remaining rows is 269197\n",
      "Number of remaining rows is 268197\n",
      "Number of remaining rows is 267197\n",
      "Number of remaining rows is 266197\n",
      "Number of remaining rows is 265197\n",
      "Number of remaining rows is 264197\n",
      "Number of remaining rows is 263197\n",
      "Number of remaining rows is 262197\n",
      "Number of remaining rows is 261197\n",
      "Number of remaining rows is 260197\n",
      "Number of remaining rows is 259197\n",
      "Number of remaining rows is 258197\n",
      "Number of remaining rows is 257197\n",
      "Number of remaining rows is 256197\n",
      "Number of remaining rows is 255197\n",
      "Number of remaining rows is 254197\n",
      "Number of remaining rows is 253197\n",
      "Number of remaining rows is 252197\n",
      "Number of remaining rows is 251197\n",
      "Number of remaining rows is 250197\n",
      "Number of remaining rows is 249197\n",
      "Number of remaining rows is 248197\n",
      "Number of remaining rows is 247197\n",
      "Number of remaining rows is 246197\n",
      "Number of remaining rows is 245197\n",
      "Number of remaining rows is 244197\n",
      "Number of remaining rows is 243197\n",
      "Number of remaining rows is 242197\n",
      "Number of remaining rows is 241197\n",
      "Number of remaining rows is 240197\n",
      "Number of remaining rows is 239197\n",
      "Number of remaining rows is 238197\n",
      "Number of remaining rows is 237197\n",
      "Number of remaining rows is 236197\n",
      "Number of remaining rows is 235197\n",
      "Number of remaining rows is 234197\n",
      "Number of remaining rows is 233197\n",
      "Number of remaining rows is 232197\n",
      "Number of remaining rows is 231197\n",
      "Number of remaining rows is 230197\n",
      "Number of remaining rows is 229197\n",
      "Number of remaining rows is 228197\n",
      "Number of remaining rows is 227197\n",
      "Number of remaining rows is 226197\n",
      "Number of remaining rows is 225197\n",
      "Number of remaining rows is 224197\n",
      "Number of remaining rows is 223197\n",
      "Number of remaining rows is 222197\n",
      "Number of remaining rows is 221197\n",
      "Number of remaining rows is 220197\n",
      "Number of remaining rows is 219197\n",
      "Number of remaining rows is 218197\n",
      "Number of remaining rows is 217197\n",
      "Number of remaining rows is 216197\n",
      "Number of remaining rows is 215197\n",
      "Number of remaining rows is 214197\n",
      "Number of remaining rows is 213197\n",
      "Number of remaining rows is 212197\n",
      "Number of remaining rows is 211197\n",
      "Number of remaining rows is 210197\n",
      "Number of remaining rows is 209197\n",
      "Number of remaining rows is 208197\n",
      "Number of remaining rows is 207197\n",
      "Number of remaining rows is 206197\n",
      "Number of remaining rows is 205197\n",
      "Number of remaining rows is 204197\n",
      "Number of remaining rows is 203197\n",
      "Number of remaining rows is 202197\n",
      "Number of remaining rows is 201197\n",
      "Number of remaining rows is 200197\n",
      "Number of remaining rows is 199197\n",
      "Number of remaining rows is 198197\n",
      "Number of remaining rows is 197197\n",
      "Number of remaining rows is 196197\n",
      "Number of remaining rows is 195197\n",
      "Number of remaining rows is 194197\n",
      "Number of remaining rows is 193197\n",
      "Number of remaining rows is 192197\n",
      "Number of remaining rows is 191197\n",
      "Number of remaining rows is 190197\n",
      "Number of remaining rows is 189197\n",
      "Number of remaining rows is 188197\n",
      "Number of remaining rows is 187197\n",
      "Number of remaining rows is 186197\n",
      "Number of remaining rows is 185197\n",
      "Number of remaining rows is 184197\n",
      "Number of remaining rows is 183197\n",
      "Number of remaining rows is 182197\n",
      "Number of remaining rows is 181197\n",
      "Number of remaining rows is 180197\n",
      "Number of remaining rows is 179197\n",
      "Number of remaining rows is 178197\n",
      "Number of remaining rows is 177197\n",
      "Number of remaining rows is 176197\n",
      "Number of remaining rows is 175197\n",
      "Number of remaining rows is 174197\n",
      "Number of remaining rows is 173197\n",
      "Number of remaining rows is 172197\n",
      "Number of remaining rows is 171197\n",
      "Number of remaining rows is 170197\n",
      "Number of remaining rows is 169197\n",
      "Number of remaining rows is 168197\n",
      "Number of remaining rows is 167197\n",
      "Number of remaining rows is 166197\n",
      "Number of remaining rows is 165197\n",
      "Number of remaining rows is 164197\n",
      "Number of remaining rows is 163197\n",
      "Number of remaining rows is 162197\n",
      "Number of remaining rows is 161197\n",
      "Number of remaining rows is 160197\n",
      "Number of remaining rows is 159197\n",
      "Number of remaining rows is 158197\n",
      "Number of remaining rows is 157197\n",
      "Number of remaining rows is 156197\n",
      "Number of remaining rows is 155197\n",
      "Number of remaining rows is 154197\n",
      "Number of remaining rows is 153197\n",
      "Number of remaining rows is 152197\n",
      "Number of remaining rows is 151197\n",
      "Number of remaining rows is 150197\n",
      "Number of remaining rows is 149197\n",
      "Number of remaining rows is 148197\n",
      "Number of remaining rows is 147197\n",
      "Number of remaining rows is 146197\n",
      "Number of remaining rows is 145197\n",
      "Number of remaining rows is 144197\n",
      "Number of remaining rows is 143197\n",
      "Number of remaining rows is 142197\n",
      "Number of remaining rows is 141197\n",
      "Number of remaining rows is 140197\n",
      "Number of remaining rows is 139197\n",
      "Number of remaining rows is 138197\n",
      "Number of remaining rows is 137197\n",
      "Number of remaining rows is 136197\n",
      "Number of remaining rows is 135197\n",
      "Number of remaining rows is 134197\n",
      "Number of remaining rows is 133197\n",
      "Number of remaining rows is 132197\n",
      "Number of remaining rows is 131197\n",
      "Number of remaining rows is 130197\n",
      "Number of remaining rows is 129197\n",
      "Number of remaining rows is 128197\n",
      "Number of remaining rows is 127197\n",
      "Number of remaining rows is 126197\n",
      "Number of remaining rows is 125197\n",
      "Number of remaining rows is 124197\n",
      "Number of remaining rows is 123197\n",
      "Number of remaining rows is 122197\n",
      "Number of remaining rows is 121197\n",
      "Number of remaining rows is 120197\n",
      "Number of remaining rows is 119197\n",
      "Number of remaining rows is 118197\n",
      "Number of remaining rows is 117197\n",
      "Number of remaining rows is 116197\n",
      "Number of remaining rows is 115197\n",
      "Number of remaining rows is 114197\n",
      "Number of remaining rows is 113197\n",
      "Number of remaining rows is 112197\n",
      "Number of remaining rows is 111197\n",
      "Number of remaining rows is 110197\n",
      "Number of remaining rows is 109197\n",
      "Number of remaining rows is 108197\n",
      "Number of remaining rows is 107197\n",
      "Number of remaining rows is 106197\n",
      "Number of remaining rows is 105197\n",
      "Number of remaining rows is 104197\n",
      "Number of remaining rows is 103197\n",
      "Number of remaining rows is 102197\n",
      "Number of remaining rows is 101197\n",
      "Number of remaining rows is 100197\n",
      "Number of remaining rows is 99197\n",
      "Number of remaining rows is 98197\n",
      "Number of remaining rows is 97197\n",
      "Number of remaining rows is 96197\n",
      "Number of remaining rows is 95197\n",
      "Number of remaining rows is 94197\n",
      "Number of remaining rows is 93197\n",
      "Number of remaining rows is 92197\n",
      "Number of remaining rows is 91197\n",
      "Number of remaining rows is 90197\n",
      "Number of remaining rows is 89197\n",
      "Number of remaining rows is 88197\n",
      "Number of remaining rows is 87197\n",
      "Number of remaining rows is 86197\n",
      "Number of remaining rows is 85197\n",
      "Number of remaining rows is 84197\n",
      "Number of remaining rows is 83197\n",
      "Number of remaining rows is 82197\n",
      "Number of remaining rows is 81197\n",
      "Number of remaining rows is 80197\n",
      "Number of remaining rows is 79197\n",
      "Number of remaining rows is 78197\n",
      "Number of remaining rows is 77197\n",
      "Number of remaining rows is 76197\n",
      "Number of remaining rows is 75197\n",
      "Number of remaining rows is 74197\n",
      "Number of remaining rows is 73197\n",
      "Number of remaining rows is 72197\n",
      "Number of remaining rows is 71197\n",
      "Number of remaining rows is 70197\n",
      "Number of remaining rows is 69197\n",
      "Number of remaining rows is 68197\n",
      "Number of remaining rows is 67197\n",
      "Number of remaining rows is 66197\n",
      "Number of remaining rows is 65197\n",
      "Number of remaining rows is 64197\n",
      "Number of remaining rows is 63197\n",
      "Number of remaining rows is 62197\n",
      "Number of remaining rows is 61197\n",
      "Number of remaining rows is 60197\n",
      "Number of remaining rows is 59197\n",
      "Number of remaining rows is 58197\n",
      "Number of remaining rows is 57197\n",
      "Number of remaining rows is 56197\n",
      "Number of remaining rows is 55197\n",
      "Number of remaining rows is 54197\n",
      "Number of remaining rows is 53197\n",
      "Number of remaining rows is 52197\n",
      "Number of remaining rows is 51197\n",
      "Number of remaining rows is 50197\n",
      "Number of remaining rows is 49197\n",
      "Number of remaining rows is 48197\n",
      "Number of remaining rows is 47197\n",
      "Number of remaining rows is 46197\n",
      "Number of remaining rows is 45197\n",
      "Number of remaining rows is 44197\n",
      "Number of remaining rows is 43197\n",
      "Number of remaining rows is 42197\n",
      "Number of remaining rows is 41197\n",
      "Number of remaining rows is 40197\n",
      "Number of remaining rows is 39197\n",
      "Number of remaining rows is 38197\n",
      "Number of remaining rows is 37197\n",
      "Number of remaining rows is 36197\n",
      "Number of remaining rows is 35197\n",
      "Number of remaining rows is 34197\n",
      "Number of remaining rows is 33197\n",
      "Number of remaining rows is 32197\n",
      "Number of remaining rows is 31197\n",
      "Number of remaining rows is 30197\n",
      "Number of remaining rows is 29197\n",
      "Number of remaining rows is 28197\n",
      "Number of remaining rows is 27197\n",
      "Number of remaining rows is 26197\n",
      "Number of remaining rows is 25197\n",
      "Number of remaining rows is 24197\n",
      "Number of remaining rows is 23197\n",
      "Number of remaining rows is 22197\n",
      "Number of remaining rows is 21197\n",
      "Number of remaining rows is 20197\n",
      "Number of remaining rows is 19197\n",
      "Number of remaining rows is 18197\n",
      "Number of remaining rows is 17197\n",
      "Number of remaining rows is 16197\n",
      "Number of remaining rows is 15197\n",
      "Number of remaining rows is 14197\n",
      "Number of remaining rows is 13197\n",
      "Number of remaining rows is 12197\n",
      "Number of remaining rows is 11197\n",
      "Number of remaining rows is 10197\n",
      "Number of remaining rows is 9197\n",
      "Number of remaining rows is 8197\n",
      "Number of remaining rows is 7197\n",
      "Number of remaining rows is 6197\n",
      "Number of remaining rows is 5197\n",
      "Number of remaining rows is 4197\n",
      "Number of remaining rows is 3197\n",
      "Number of remaining rows is 2197\n",
      "Number of remaining rows is 1197\n",
      "Number of remaining rows is 197\n"
     ]
    }
   ],
   "source": [
    "url = \"https://recruitment.aimtechnologies.co/ai-tasks\"\n",
    "\n",
    "tweets = pd.DataFrame()\n",
    "for i in range(0, df.shape[0], 1000):\n",
    "    \n",
    "    print(f\"Number of remaining rows is {df.shape[0] - i}\") # FOR DEBUGGING\n",
    "    response = post(url,\n",
    "                    data= json.dumps(df.id[i: i+1000].values.tolist()))\n",
    "    \n",
    "    response = json.loads(response.content.decode('utf-8'))\n",
    "    d = pd.DataFrame(list(response.items()),\n",
    "                     columns = ['id', 'tweet'])\n",
    "    tweets = tweets.append(d,\n",
    "                       ignore_index=True)\n"
   ]
  },
  {
   "cell_type": "code",
   "execution_count": 4,
   "metadata": {},
   "outputs": [
    {
     "data": {
      "text/html": [
       "<div>\n",
       "<style scoped>\n",
       "    .dataframe tbody tr th:only-of-type {\n",
       "        vertical-align: middle;\n",
       "    }\n",
       "\n",
       "    .dataframe tbody tr th {\n",
       "        vertical-align: top;\n",
       "    }\n",
       "\n",
       "    .dataframe thead th {\n",
       "        text-align: right;\n",
       "    }\n",
       "</style>\n",
       "<table border=\"1\" class=\"dataframe\">\n",
       "  <thead>\n",
       "    <tr style=\"text-align: right;\">\n",
       "      <th></th>\n",
       "      <th>id</th>\n",
       "      <th>tweet</th>\n",
       "    </tr>\n",
       "  </thead>\n",
       "  <tbody>\n",
       "    <tr>\n",
       "      <th>458192</th>\n",
       "      <td>1019484980282580992</td>\n",
       "      <td>@Al_mhbaa_7 مبسوطين منك اللي باسطانا😅</td>\n",
       "    </tr>\n",
       "    <tr>\n",
       "      <th>458193</th>\n",
       "      <td>1021083283709407232</td>\n",
       "      <td>@Zzainabali @P_ameerah والله ماينده ابش يختي</td>\n",
       "    </tr>\n",
       "    <tr>\n",
       "      <th>458194</th>\n",
       "      <td>1017477537889431552</td>\n",
       "      <td>@Al_mhbaa_7 شو عملنا لك حنا تهربي مننا احنا مس...</td>\n",
       "    </tr>\n",
       "    <tr>\n",
       "      <th>458195</th>\n",
       "      <td>1022430374696239232</td>\n",
       "      <td>@haneenalmwla الله يبارك فيها وبالعافيه 😋😋😋</td>\n",
       "    </tr>\n",
       "    <tr>\n",
       "      <th>458196</th>\n",
       "      <td>1022409931029458944</td>\n",
       "      <td>@jolnar121 السحله ضيفي ي بتطلع لك سحليه😅😅</td>\n",
       "    </tr>\n",
       "  </tbody>\n",
       "</table>\n",
       "</div>"
      ],
      "text/plain": [
       "                         id                                              tweet\n",
       "458192  1019484980282580992              @Al_mhbaa_7 مبسوطين منك اللي باسطانا😅\n",
       "458193  1021083283709407232       @Zzainabali @P_ameerah والله ماينده ابش يختي\n",
       "458194  1017477537889431552  @Al_mhbaa_7 شو عملنا لك حنا تهربي مننا احنا مس...\n",
       "458195  1022430374696239232        @haneenalmwla الله يبارك فيها وبالعافيه 😋😋😋\n",
       "458196  1022409931029458944          @jolnar121 السحله ضيفي ي بتطلع لك سحليه😅😅"
      ]
     },
     "execution_count": 4,
     "metadata": {},
     "output_type": "execute_result"
    }
   ],
   "source": [
    "tweets.tail() "
   ]
  },
  {
   "cell_type": "code",
   "execution_count": 5,
   "metadata": {},
   "outputs": [
    {
     "data": {
      "text/html": [
       "<div>\n",
       "<style scoped>\n",
       "    .dataframe tbody tr th:only-of-type {\n",
       "        vertical-align: middle;\n",
       "    }\n",
       "\n",
       "    .dataframe tbody tr th {\n",
       "        vertical-align: top;\n",
       "    }\n",
       "\n",
       "    .dataframe thead th {\n",
       "        text-align: right;\n",
       "    }\n",
       "</style>\n",
       "<table border=\"1\" class=\"dataframe\">\n",
       "  <thead>\n",
       "    <tr style=\"text-align: right;\">\n",
       "      <th></th>\n",
       "      <th>id</th>\n",
       "      <th>tweet</th>\n",
       "      <th>dialect</th>\n",
       "    </tr>\n",
       "  </thead>\n",
       "  <tbody>\n",
       "    <tr>\n",
       "      <th>count</th>\n",
       "      <td>458197</td>\n",
       "      <td>458197</td>\n",
       "      <td>458197</td>\n",
       "    </tr>\n",
       "    <tr>\n",
       "      <th>unique</th>\n",
       "      <td>458197</td>\n",
       "      <td>458197</td>\n",
       "      <td>18</td>\n",
       "    </tr>\n",
       "    <tr>\n",
       "      <th>top</th>\n",
       "      <td>985210217427357568</td>\n",
       "      <td>تمثلني 😂\\nخاصة الناس الي ما بدي ياهم وبيقعدوا ...</td>\n",
       "      <td>EG</td>\n",
       "    </tr>\n",
       "    <tr>\n",
       "      <th>freq</th>\n",
       "      <td>1</td>\n",
       "      <td>1</td>\n",
       "      <td>57636</td>\n",
       "    </tr>\n",
       "  </tbody>\n",
       "</table>\n",
       "</div>"
      ],
      "text/plain": [
       "                        id                                              tweet  \\\n",
       "count               458197                                             458197   \n",
       "unique              458197                                             458197   \n",
       "top     985210217427357568  تمثلني 😂\\nخاصة الناس الي ما بدي ياهم وبيقعدوا ...   \n",
       "freq                     1                                                  1   \n",
       "\n",
       "       dialect  \n",
       "count   458197  \n",
       "unique      18  \n",
       "top         EG  \n",
       "freq     57636  "
      ]
     },
     "execution_count": 5,
     "metadata": {},
     "output_type": "execute_result"
    }
   ],
   "source": [
    "tweets = pd.merge(tweets, df, on ='id', how='right')\n",
    "tweets.describe()"
   ]
  },
  {
   "cell_type": "code",
   "execution_count": 6,
   "metadata": {},
   "outputs": [],
   "source": [
    "fname = 'Datasets/tweets.pkl'\n",
    "with open(fname, 'wb') as file:\n",
    "    pickle.dump(tweets, file)\n"
   ]
  },
  {
   "cell_type": "markdown",
   "metadata": {},
   "source": [
    "## 01 Data Preprocessing"
   ]
  },
  {
   "cell_type": "code",
   "execution_count": 7,
   "metadata": {},
   "outputs": [
    {
     "data": {
      "text/plain": [
       "<AxesSubplot:>"
      ]
     },
     "execution_count": 7,
     "metadata": {},
     "output_type": "execute_result"
    },
    {
     "data": {
      "image/png": "[encoded data removed]",
      "text/plain": [
       "<Figure size 432x288 with 1 Axes>"
      ]
     },
     "metadata": {
      "needs_background": "light"
     },
     "output_type": "display_data"
    }
   ],
   "source": [
    "# check balancing data\n",
    "tweets.dialect.value_counts().plot(kind='bar')"
   ]
  },
  {
   "cell_type": "markdown",
   "metadata": {},
   "source": [
    "### Dealing with imbalanced data"
   ]
  },
  {
   "cell_type": "code",
   "execution_count": 9,
   "metadata": {},
   "outputs": [],
   "source": [
    "#using undersampling \n",
    "# Store Tunisian records\n",
    "TN_records = tweets[tweets.dialect == 'TN'].dialect.count()\n",
    "\n",
    "# Picking the indices of all dialects\n",
    "dialect_dict = {\n",
    "    d : tweets.dialect[tweets.dialect == d].index for d in tweets.dialect.unique()\n",
    " }\n",
    "\n"
   ]
  },
  {
   "cell_type": "code",
   "execution_count": 11,
   "metadata": {},
   "outputs": [],
   "source": [
    "import numpy as np\n",
    "\n",
    "# Out of the indices we picked, randomly select number of dialects records = number of TN dialect records \n",
    "for dialect, indices in dialect_dict.items():\n",
    "    dialect_dict[dialect] = np.random.choice(indices, TN_records)\n",
    "    dialect_dict[dialect] = np.array(dialect_dict[dialect])\n",
    "\n",
    "under_sample_indices = np.concatenate(list(dialect_dict.values()))\n",
    "# Copy under sample dataset  \n",
    "under_sampled_data = tweets.iloc[under_sample_indices,:]\n"
   ]
  },
  {
   "cell_type": "code",
   "execution_count": 12,
   "metadata": {},
   "outputs": [
    {
     "data": {
      "text/plain": [
       "<AxesSubplot:>"
      ]
     },
     "execution_count": 12,
     "metadata": {},
     "output_type": "execute_result"
    },
    {
     "data": {
      "image/png": "[encoded data removed]",
      "text/plain": [
       "<Figure size 432x288 with 1 Axes>"
      ]
     },
     "metadata": {
      "needs_background": "light"
     },
     "output_type": "display_data"
    }
   ],
   "source": [
    "# check data after sampling \n",
    "under_sampled_data.dialect.value_counts().plot(kind='bar')"
   ]
  },
  {
   "cell_type": "markdown",
   "metadata": {},
   "source": [
    "## Cleaning the data\n",
    "\n",
    "as we working on arabic tweets and our task is to detect/classify the dialect of tweets. so, we are mostly interested in the tweets itself without the mentions of the users or emojis. the cleaning steps will be\n",
    "1. remove English letters\n",
    "2. remove punctuation\n",
    "3. remove numbers\n",
    "4. and remove special characters"
   ]
  },
  {
   "cell_type": "code",
   "execution_count": 13,
   "metadata": {},
   "outputs": [],
   "source": [
    "import re\n",
    "\n",
    "def clean_text(text):\n",
    "    special_ch = re.compile('[-\\+!~@#$%^&*()={}\\[\\]:;<.>?/\\'\"]')\n",
    "    english_l = re.compile('[a-zA-Z]')\n",
    "    new_lines = re.compile('\\s+')\n",
    "    numbers = re.compile('[0-9]')\n",
    "    emoji_pattern = re.compile(\"[\"\n",
    "        u\"\\U0001F600-\\U0001F64F\"  # emoticons\n",
    "        u\"\\U0001F300-\\U0001F5FF\"  # symbols & pictographs\n",
    "        u\"\\U0001F680-\\U0001F6FF\"  # transport & map symbols\n",
    "        u\"\\U0001F1E0-\\U0001F1FF\"  # flags (iOS)\n",
    "                           \"]+\", flags=re.UNICODE)\n",
    "\n",
    "    text = special_ch.sub(\"\", text)\n",
    "    text = english_l.sub(\"\", text)\n",
    "    text = new_lines.sub(\" \", text)\n",
    "    text = numbers.sub(\"\", text)\n",
    "    text = emoji_pattern.sub(\"\", text)\n",
    "\n",
    "    return text"
   ]
  },
  {
   "cell_type": "code",
   "execution_count": 14,
   "metadata": {},
   "outputs": [
    {
     "name": "stderr",
     "output_type": "stream",
     "text": [
      "/home/mustafa/.local/lib/python3.6/site-packages/ipykernel_launcher.py:1: SettingWithCopyWarning: \n",
      "A value is trying to be set on a copy of a slice from a DataFrame.\n",
      "Try using .loc[row_indexer,col_indexer] = value instead\n",
      "\n",
      "See the caveats in the documentation: https://pandas.pydata.org/pandas-docs/stable/user_guide/indexing.html#returning-a-view-versus-a-copy\n",
      "  \"\"\"Entry point for launching an IPython kernel.\n"
     ]
    },
    {
     "data": {
      "text/html": [
       "<div>\n",
       "<style scoped>\n",
       "    .dataframe tbody tr th:only-of-type {\n",
       "        vertical-align: middle;\n",
       "    }\n",
       "\n",
       "    .dataframe tbody tr th {\n",
       "        vertical-align: top;\n",
       "    }\n",
       "\n",
       "    .dataframe thead th {\n",
       "        text-align: right;\n",
       "    }\n",
       "</style>\n",
       "<table border=\"1\" class=\"dataframe\">\n",
       "  <thead>\n",
       "    <tr style=\"text-align: right;\">\n",
       "      <th></th>\n",
       "      <th>id</th>\n",
       "      <th>tweet</th>\n",
       "      <th>dialect</th>\n",
       "    </tr>\n",
       "  </thead>\n",
       "  <tbody>\n",
       "    <tr>\n",
       "      <th>14789</th>\n",
       "      <td>762435578096852992</td>\n",
       "      <td>فضيحة هيثم طلعت حول مغالطة عمر الحياة</td>\n",
       "      <td>IQ</td>\n",
       "    </tr>\n",
       "    <tr>\n",
       "      <th>535</th>\n",
       "      <td>1094280355450740736</td>\n",
       "      <td>__ بالعافيه عليج حب تستاهلين هدايا بس انتي هم ...</td>\n",
       "      <td>IQ</td>\n",
       "    </tr>\n",
       "    <tr>\n",
       "      <th>6289</th>\n",
       "      <td>1082172220829585408</td>\n",
       "      <td>ممنونه الف شكر تحياتي</td>\n",
       "      <td>IQ</td>\n",
       "    </tr>\n",
       "    <tr>\n",
       "      <th>2474</th>\n",
       "      <td>1018979691036921984</td>\n",
       "      <td>اني شفته خوش تاريخ مال مناسبة مهمة حتى ما انساه</td>\n",
       "      <td>IQ</td>\n",
       "    </tr>\n",
       "    <tr>\n",
       "      <th>2324</th>\n",
       "      <td>801154530494869504</td>\n",
       "      <td>خليكم على البشويش لحسن تنعلسون</td>\n",
       "      <td>IQ</td>\n",
       "    </tr>\n",
       "  </tbody>\n",
       "</table>\n",
       "</div>"
      ],
      "text/plain": [
       "                        id                                              tweet  \\\n",
       "14789   762435578096852992              فضيحة هيثم طلعت حول مغالطة عمر الحياة   \n",
       "535    1094280355450740736  __ بالعافيه عليج حب تستاهلين هدايا بس انتي هم ...   \n",
       "6289   1082172220829585408                              ممنونه الف شكر تحياتي   \n",
       "2474   1018979691036921984   اني شفته خوش تاريخ مال مناسبة مهمة حتى ما انساه    \n",
       "2324    801154530494869504                     خليكم على البشويش لحسن تنعلسون   \n",
       "\n",
       "      dialect  \n",
       "14789      IQ  \n",
       "535        IQ  \n",
       "6289       IQ  \n",
       "2474       IQ  \n",
       "2324       IQ  "
      ]
     },
     "execution_count": 14,
     "metadata": {},
     "output_type": "execute_result"
    }
   ],
   "source": [
    "under_sampled_data['tweet'] = under_sampled_data.tweet.apply(clean_text)\n",
    "#show the cleaned data\n",
    "under_sampled_data.head()"
   ]
  },
  {
   "cell_type": "code",
   "execution_count": 15,
   "metadata": {},
   "outputs": [
    {
     "data": {
      "text/plain": [
       "id         0\n",
       "tweet      0\n",
       "dialect    0\n",
       "dtype: int64"
      ]
     },
     "execution_count": 15,
     "metadata": {},
     "output_type": "execute_result"
    }
   ],
   "source": [
    "\"\"\"\n",
    "check if there's a tweets that were contain only users like @username and emojis \n",
    "that now would be empty or space\n",
    "\"\"\" \n",
    "under_sampled_data[under_sampled_data.tweet == \"\"].count()\n",
    "under_sampled_data[under_sampled_data.tweet == \" \"].count()"
   ]
  },
  {
   "cell_type": "markdown",
   "metadata": {},
   "source": [
    "### shuffle and split the Data\n",
    "split the data to training and testing data "
   ]
  },
  {
   "cell_type": "code",
   "execution_count": 16,
   "metadata": {},
   "outputs": [
    {
     "name": "stdout",
     "output_type": "stream",
     "text": [
      "Training set has 133142 samples.\n",
      "Testing set has 33286 samples.\n"
     ]
    }
   ],
   "source": [
    "# Import train_test_split\n",
    "from sklearn.model_selection import train_test_split\n",
    "\n",
    "# Split data into features and target labels \n",
    "features = under_sampled_data['tweet']\n",
    "target = under_sampled_data['dialect']\n",
    "\n",
    "# Split the 'features' and 'target' data into training and testing sets\n",
    "X_train, X_test, y_train, y_test = train_test_split(features,\n",
    "                                                    target,\n",
    "                                                    test_size = 0.20,\n",
    "                                                    random_state = 30)\n",
    "\n",
    "# Show the results of the split\n",
    "print(\"Training set has {} samples.\".format(X_train.shape[0]))\n",
    "print(\"Testing set has {} samples.\".format(X_test.shape[0]))"
   ]
  },
  {
   "cell_type": "markdown",
   "metadata": {},
   "source": [
    "## Model Evaluating\n",
    "\n",
    "The next steps includes feature engineering. We will convert our text documents to a matrix of token counts (CountVectorizer), then transform a count matrix to a normalized tf-idf representation (tf-idf transformer). After that, we train several classifiers. using pipeline concept."
   ]
  },
  {
   "cell_type": "markdown",
   "metadata": {},
   "source": [
    "### Multinomial Naive Bayes"
   ]
  },
  {
   "cell_type": "code",
   "execution_count": 17,
   "metadata": {},
   "outputs": [
    {
     "data": {
      "text/plain": [
       "Pipeline(memory=None,\n",
       "         steps=[('vect',\n",
       "                 CountVectorizer(analyzer='word', binary=False,\n",
       "                                 decode_error='strict',\n",
       "                                 dtype=<class 'numpy.int64'>, encoding='utf-8',\n",
       "                                 input='content', lowercase=True, max_df=1.0,\n",
       "                                 max_features=None, min_df=1,\n",
       "                                 ngram_range=(1, 1), preprocessor=None,\n",
       "                                 stop_words=None, strip_accents=None,\n",
       "                                 token_pattern='(?u)\\\\b\\\\w\\\\w+\\\\b',\n",
       "                                 tokenizer=None, vocabulary=None)),\n",
       "                ('tfidf',\n",
       "                 TfidfTransformer(norm='l2', smooth_idf=True,\n",
       "                                  sublinear_tf=False, use_idf=True)),\n",
       "                ('clf',\n",
       "                 MultinomialNB(alpha=1.0, class_prior=None, fit_prior=True))],\n",
       "         verbose=False)"
      ]
     },
     "execution_count": 17,
     "metadata": {},
     "output_type": "execute_result"
    }
   ],
   "source": [
    "from sklearn.pipeline import Pipeline # import pipeline\n",
    "from sklearn.feature_extraction.text import CountVectorizer # import CountVectorizer\n",
    "from sklearn.feature_extraction.text import TfidfTransformer #import tfidfTransformer\n",
    "from sklearn.naive_bayes import MultinomialNB # import Multinomial Naive bayes\n",
    "from sklearn.metrics import accuracy_score\n",
    "\n",
    "nb = Pipeline([('vect', CountVectorizer()),\n",
    "               ('tfidf', TfidfTransformer()),\n",
    "               ('clf', MultinomialNB()),\n",
    "              ])\n",
    "nb.fit(X_train, y_train)"
   ]
  },
  {
   "cell_type": "code",
   "execution_count": 20,
   "metadata": {},
   "outputs": [
    {
     "name": "stdout",
     "output_type": "stream",
     "text": [
      "accuracy 58.25\n"
     ]
    }
   ],
   "source": [
    "print('accuracy {:.2f}'.format(nb.score(X_test, y_test) * 100))"
   ]
  },
  {
   "cell_type": "markdown",
   "metadata": {},
   "source": [
    "### linear support vector machine with stochastic gradient descent\n"
   ]
  },
  {
   "cell_type": "code",
   "execution_count": 21,
   "metadata": {},
   "outputs": [
    {
     "name": "stdout",
     "output_type": "stream",
     "text": [
      "accuracy 56.69\n"
     ]
    }
   ],
   "source": [
    "from sklearn.linear_model import SGDClassifier\n",
    "\n",
    "sgd = Pipeline([('vect', CountVectorizer()),\n",
    "                ('tfidf', TfidfTransformer()),\n",
    "                ('clf', SGDClassifier(loss='hinge', \n",
    "                                      penalty='l2',\n",
    "                                      alpha=1e-3, \n",
    "                                      random_state= 30, \n",
    "                                      max_iter=5, \n",
    "                                      tol=None)),\n",
    "               ])\n",
    "sgd.fit(X_train, y_train)\n",
    "print('accuracy {:.2f}'.format(sgd.score(X_test, y_test) * 100))"
   ]
  },
  {
   "cell_type": "markdown",
   "metadata": {},
   "source": [
    "### Test on the original data"
   ]
  },
  {
   "cell_type": "code",
   "execution_count": 22,
   "metadata": {},
   "outputs": [
    {
     "name": "stdout",
     "output_type": "stream",
     "text": [
      "naive bayes accuracy: 57.41%\n",
      "Linear SVM with SGD accuracy: 54.39%\n"
     ]
    }
   ],
   "source": [
    "# Try on whole data before under sampling\n",
    "X_data = tweets.tweet.apply(clean_text)\n",
    "y_data = tweets.dialect\n",
    "\n",
    "print(\"naive bayes accuracy: {:.2f}%\".format(nb.score(X_data, y_data)*100))\n",
    "print(\"Linear SVM with SGD accuracy: {:.2f}%\".format(sgd.score(X_data, y_data)*100))"
   ]
  },
  {
   "cell_type": "code",
   "execution_count": 23,
   "metadata": {},
   "outputs": [
    {
     "name": "stdout",
     "output_type": "stream",
     "text": [
      "EG\n"
     ]
    }
   ],
   "source": [
    "# test the model on a sentence.\n",
    "result = nb.predict(['موديل رايق بسكور تعبان :\"D\"'])\n",
    "print((result[0]))"
   ]
  },
  {
   "cell_type": "markdown",
   "metadata": {},
   "source": [
    "#### Save the model"
   ]
  },
  {
   "cell_type": "code",
   "execution_count": 25,
   "metadata": {},
   "outputs": [],
   "source": [
    "# save the model\n",
    "import pickle\n",
    "\n",
    "file_name = \"Models/mnb_model.pkl\"\n",
    "with open(file_name, 'wb') as f:\n",
    "    pickle.dump(nb, file= f)\n",
    "\n"
   ]
  },
  {
   "cell_type": "markdown",
   "metadata": {},
   "source": [
    "## Build RESTFuL API"
   ]
  },
  {
   "cell_type": "code",
   "execution_count": 26,
   "metadata": {},
   "outputs": [
    {
     "name": "stdout",
     "output_type": "stream",
     "text": [
      " * Serving Flask app \"__main__\" (lazy loading)\n",
      " * Environment: production\n",
      "\u001b[31m   WARNING: This is a development server. Do not use it in a production deployment.\u001b[0m\n",
      "\u001b[2m   Use a production WSGI server instead.\u001b[0m\n",
      " * Debug mode: on\n"
     ]
    },
    {
     "name": "stderr",
     "output_type": "stream",
     "text": [
      " * Running on http://127.0.0.1:8080/ (Press CTRL+C to quit)\n",
      " * Restarting with stat\n"
     ]
    },
    {
     "ename": "SystemExit",
     "evalue": "1",
     "output_type": "error",
     "traceback": [
      "An exception has occurred, use %tb to see the full traceback.\n",
      "\u001b[0;31mSystemExit\u001b[0m\u001b[0;31m:\u001b[0m 1\n"
     ]
    },
    {
     "name": "stderr",
     "output_type": "stream",
     "text": [
      "/home/mustafa/.local/lib/python3.6/site-packages/IPython/core/interactiveshell.py:3327: UserWarning: To exit: use 'exit', 'quit', or Ctrl-D.\n",
      "  warn(\"To exit: use 'exit', 'quit', or Ctrl-D.\", stacklevel=1)\n"
     ]
    }
   ],
   "source": [
    "from flask import Flask\n",
    "app = Flask(__name__)\n",
    "\n",
    "@app.route('/predict/<string:text>')\n",
    "def predict(text: str) -> str:\n",
    "    \"\"\"\n",
    "        text: sentences/paragraph/tweets that will be predicted\n",
    "        return: expected dialect\n",
    "    \"\"\"\n",
    "    try:\n",
    "        return sgd.predict([clean_text(text)])[0] \n",
    "    except:\n",
    "        print(\"Enter a Text\")\n",
    "\n",
    "app.run(debug=True, port=8080) #run app on port 8080 in debug mode"
   ]
  },
  {
   "cell_type": "code",
   "execution_count": null,
   "metadata": {},
   "outputs": [],
   "source": []
  }
 ],
 "metadata": {
  "kernelspec": {
   "display_name": "Python 3",
   "language": "python",
   "name": "python3"
  },
  "language_info": {
   "codemirror_mode": {
    "name": "ipython",
    "version": 3
   },
   "file_extension": ".py",
   "mimetype": "text/x-python",
   "name": "python",
   "nbconvert_exporter": "python",
   "pygments_lexer": "ipython3",
   "version": "3.6.8"
  }
 },
 "nbformat": 4,
 "nbformat_minor": 4
}
